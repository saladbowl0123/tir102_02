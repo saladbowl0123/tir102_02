{
 "cells": [
  {
   "cell_type": "code",
   "execution_count": 1,
   "metadata": {},
   "outputs": [],
   "source": [
    "from APoD_to_BigQuery_function import *\n",
    "import json"
   ]
  },
  {
   "cell_type": "code",
   "execution_count": 2,
   "metadata": {},
   "outputs": [
    {
     "data": {
      "text/plain": [
       "['C:\\\\Users\\\\T14 Gen 3\\\\tir102_02\\\\APoD_json\\\\apod_data_1995-06-16_1997-12-31.json',\n",
       " 'C:\\\\Users\\\\T14 Gen 3\\\\tir102_02\\\\APoD_json\\\\apod_data_1998-01-01_2000-12-31.json',\n",
       " 'C:\\\\Users\\\\T14 Gen 3\\\\tir102_02\\\\APoD_json\\\\apod_data_2001-01-01_2003-12-31.json',\n",
       " 'C:\\\\Users\\\\T14 Gen 3\\\\tir102_02\\\\APoD_json\\\\apod_data_2004-01-01_2006-12-31.json',\n",
       " 'C:\\\\Users\\\\T14 Gen 3\\\\tir102_02\\\\APoD_json\\\\apod_data_2007-01-01_2007-12-31.json',\n",
       " 'C:\\\\Users\\\\T14 Gen 3\\\\tir102_02\\\\APoD_json\\\\apod_data_2008-01-01_2010-12-31.json',\n",
       " 'C:\\\\Users\\\\T14 Gen 3\\\\tir102_02\\\\APoD_json\\\\apod_data_2011-01-01_2013-12-31.json',\n",
       " 'C:\\\\Users\\\\T14 Gen 3\\\\tir102_02\\\\APoD_json\\\\apod_data_2014-01-01_2016-12-31.json',\n",
       " 'C:\\\\Users\\\\T14 Gen 3\\\\tir102_02\\\\APoD_json\\\\apod_data_2017-01-01_2019-12-31.json',\n",
       " 'C:\\\\Users\\\\T14 Gen 3\\\\tir102_02\\\\APoD_json\\\\apod_data_2020-01-01_2021-12-31.json',\n",
       " 'C:\\\\Users\\\\T14 Gen 3\\\\tir102_02\\\\APoD_json\\\\apod_data_2022-01-01_2023-12-31.json',\n",
       " 'C:\\\\Users\\\\T14 Gen 3\\\\tir102_02\\\\APoD_json\\\\apod_data_2024-01-01_2024-07-31.json']"
      ]
     },
     "execution_count": 2,
     "metadata": {},
     "output_type": "execute_result"
    }
   ],
   "source": [
    "directory = r'C:\\Users\\T14 Gen 3\\tir102_02\\APoD_json'\n",
    "# 初始化一個空列表來存儲檔案路徑\n",
    "input_files = []\n",
    "\n",
    "# 遍歷資料夾中的所有 JSON 檔案\n",
    "for file_path in Path(directory).rglob('*.json'):\n",
    "    if file_path.is_file():\n",
    "        file_path = str(file_path)\n",
    "        input_files.append(file_path)\n",
    "\n",
    "input_files"
   ]
  },
  {
   "cell_type": "code",
   "execution_count": 3,
   "metadata": {},
   "outputs": [
    {
     "name": "stdout",
     "output_type": "stream",
     "text": [
      "CSV file 'apod_data_1995-06-16_1997-12-31_151424.csv' created successfully.\n",
      "CSV file 'apod_data_1998-01-01_2000-12-31_151424.csv' created successfully.\n",
      "CSV file 'apod_data_2001-01-01_2003-12-31_151424.csv' created successfully.\n",
      "CSV file 'apod_data_2004-01-01_2006-12-31_151424.csv' created successfully.\n",
      "CSV file 'apod_data_2007-01-01_2007-12-31_151424.csv' created successfully.\n",
      "CSV file 'apod_data_2008-01-01_2010-12-31_151424.csv' created successfully.\n",
      "CSV file 'apod_data_2011-01-01_2013-12-31_151424.csv' created successfully.\n",
      "CSV file 'apod_data_2014-01-01_2016-12-31_151424.csv' created successfully.\n",
      "CSV file 'apod_data_2017-01-01_2019-12-31_151424.csv' created successfully.\n",
      "CSV file 'apod_data_2020-01-01_2021-12-31_151424.csv' created successfully.\n",
      "CSV file 'apod_data_2022-01-01_2023-12-31_151424.csv' created successfully.\n",
      "CSV file 'apod_data_2024-01-01_2024-07-31_151425.csv' created successfully.\n"
     ]
    }
   ],
   "source": [
    "output_folder = r'C:\\Users\\T14 Gen 3\\tir102_02\\APoD_partition'\n",
    "for input_file in input_files:\n",
    "    process_json_to_csv(input_file, output_folder)"
   ]
  }
 ],
 "metadata": {
  "kernelspec": {
   "display_name": "Python 3",
   "language": "python",
   "name": "python3"
  },
  "language_info": {
   "codemirror_mode": {
    "name": "ipython",
    "version": 3
   },
   "file_extension": ".py",
   "mimetype": "text/x-python",
   "name": "python",
   "nbconvert_exporter": "python",
   "pygments_lexer": "ipython3",
   "version": "3.12.4"
  }
 },
 "nbformat": 4,
 "nbformat_minor": 2
}
